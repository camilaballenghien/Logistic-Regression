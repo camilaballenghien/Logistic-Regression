{
 "cells": [
  {
   "cell_type": "markdown",
   "metadata": {},
   "source": [
    "#"
   ]
  },
  {
   "cell_type": "markdown",
   "metadata": {},
   "source": [
    "# Titanic assessment"
   ]
  },
  {
   "cell_type": "markdown",
   "metadata": {},
   "source": [
    "1. Importing data and python packages \n",
    "2. Assessing Data Quality and Missing Values \n",
    "3. Exploratory Analysis \n",
    "4. Logistic Regression"
   ]
  },
  {
   "cell_type": "markdown",
   "metadata": {},
   "source": [
    "### 1. Importing packages\n"
   ]
  },
  {
   "cell_type": "code",
   "execution_count": 67,
   "metadata": {},
   "outputs": [],
   "source": [
    "import numpy as np\n",
    "import pandas as pd \n",
    "\n",
    "from sklearn import preprocessing \n",
    "import matplotlib.pyplot as plt\n",
    "from sklearn.model_selection import train_test_split\n",
    "from sklearn.preprocessing import StandardScaler\n",
    "from sklearn.linear_model import LogisticRegression\n",
    "from sklearn.metrics import confusion_matrix \n",
    "import seaborn as sns\n",
    "from sklearn.metrics import accuracy_score \n",
    "from sklearn.metrics import roc_curve\n",
    "from sklearn.metrics import roc_auc_score\n",
    "from sklearn.metrics import f1_score\n",
    "\n",
    "\n",
    "\n"
   ]
  },
  {
   "cell_type": "markdown",
   "metadata": {},
   "source": [
    "CSV documents into dataframes"
   ]
  },
  {
   "cell_type": "code",
   "execution_count": 68,
   "metadata": {},
   "outputs": [],
   "source": [
    "test_df = pd.read_csv('test.csv')\n",
    "train_df = pd.read_csv('train.csv')\n",
    "gender_df = pd.read_csv('gender_submission.csv')"
   ]
  },
  {
   "cell_type": "markdown",
   "metadata": {},
   "source": [
    "### 2. Assessing data quality and Missing Values "
   ]
  },
  {
   "cell_type": "markdown",
   "metadata": {},
   "source": [
    "2.1 Training dataset"
   ]
  },
  {
   "cell_type": "code",
   "execution_count": 69,
   "metadata": {},
   "outputs": [
    {
     "data": {
      "text/plain": [
       "PassengerId      0\n",
       "Survived         0\n",
       "Pclass           0\n",
       "Name             0\n",
       "Sex              0\n",
       "Age            177\n",
       "SibSp            0\n",
       "Parch            0\n",
       "Ticket           0\n",
       "Fare             0\n",
       "Cabin          687\n",
       "Embarked         2\n",
       "dtype: int64"
      ]
     },
     "execution_count": 69,
     "metadata": {},
     "output_type": "execute_result"
    }
   ],
   "source": [
    "train_df.isnull().sum()"
   ]
  },
  {
   "cell_type": "code",
   "execution_count": 70,
   "metadata": {},
   "outputs": [
    {
     "name": "stdout",
     "output_type": "stream",
     "text": [
      "Percent of missing age records is 19.87%\n",
      "The median of the age records is: 28.0\n",
      "Percent of missing cabin records is 77.10%\n",
      "Percent of missing embarked records is 0.22%\n",
      "The most common vale for embarked data is: 0    S\n",
      "Name: Embarked, dtype: object\n"
     ]
    }
   ],
   "source": [
    "train_df['Age'].median()\n",
    "print('Percent of missing age records is %.2f%%'%((train_df['Age'].isnull().sum()/train_df.shape[0]*100)))\n",
    "print('The median of the age records is:', train_df['Age'].median())\n",
    "train_df['Cabin'].mode()\n",
    "print('Percent of missing cabin records is %.2f%%'%((train_df['Cabin'].isnull().sum()/train_df.shape[0]*100)))\n",
    "train_df['Embarked'].mode()\n",
    "print('Percent of missing embarked records is %.2f%%'%((train_df['Embarked'].isnull().sum()/train_df.shape[0]*100)))\n",
    "print('The most common vale for embarked data is:', train_df['Embarked'].mode())\n"
   ]
  },
  {
   "cell_type": "markdown",
   "metadata": {},
   "source": [
    "###### We can replace age and the embarked data with the most common values and the median. However, for the cabin data as 77% of the data is missing therefore I will remove this column and ignore it in my data analysis"
   ]
  },
  {
   "cell_type": "markdown",
   "metadata": {},
   "source": [
    "Replacing missing values for 'Age' and 'Embarked' column"
   ]
  },
  {
   "cell_type": "code",
   "execution_count": 71,
   "metadata": {},
   "outputs": [
    {
     "data": {
      "text/plain": [
       "PassengerId    0\n",
       "Survived       0\n",
       "Pclass         0\n",
       "Name           0\n",
       "Sex            0\n",
       "Age            0\n",
       "SibSp          0\n",
       "Parch          0\n",
       "Ticket         0\n",
       "Fare           0\n",
       "Embarked       0\n",
       "dtype: int64"
      ]
     },
     "execution_count": 71,
     "metadata": {},
     "output_type": "execute_result"
    }
   ],
   "source": [
    "train_ad=train_df.copy()\n",
    "#Replacing missing age values with the median\n",
    "train_ad['Age']=train_df['Age'].fillna(train_df['Age'].median()) #Replace Nas wih the median age \n",
    "#Replacing missing Embarked values with the mode \n",
    "train_ad['Embarked']=train_df['Embarked'].fillna(train_df['Embarked'].value_counts().idxmax()) #Replace Nas with the most common value \n",
    "train_ad.isnull().sum()\n",
    "#Removing the cabin column from the data set \n",
    "train_ad.drop('Cabin', axis=1, inplace = True) #Remove the cabin column from the new data set \n",
    "train_ad.isnull().sum()\n"
   ]
  },
  {
   "cell_type": "code",
   "execution_count": 72,
   "metadata": {},
   "outputs": [
    {
     "data": {
      "image/png": "[encoded data removed]",
      "text/plain": [
       "<Figure size 432x288 with 1 Axes>"
      ]
     },
     "metadata": {
      "needs_background": "light"
     },
     "output_type": "display_data"
    }
   ],
   "source": [
    "fig, ax=plt.subplots()\n",
    "\n",
    "ax=train_df['Age'].hist(bins=15, density = True, stacked = True, color='teal',alpha=0.6)\n",
    "train_df['Age'].plot(kind='density', color='teal')\n",
    "ax=train_ad['Age'].hist(bins =15, density = True, stacked= True, color='orange',alpha=0.5)\n",
    "train_ad['Age'].plot(kind = 'density', color='orange')\n",
    "ax.legend(['Raw Age','Adjusted Age'])\n",
    "ax.set(xlabel='Age')\n",
    "ax.set_title('Raw Age vs Adjusted Age for the training dataset')\n",
    "plt.xlim(-10,85)\n",
    "plt.show()\n",
    "\n",
    "\n",
    "\n"
   ]
  },
  {
   "cell_type": "markdown",
   "metadata": {},
   "source": [
    "###### The above graph shows us that replacing the missing values in the age column with the median age (28) doesn't change significantly the shape of the density plot. The main change is at the level of the median age which is normal as for the adjusted age there are more median age values."
   ]
  },
  {
   "cell_type": "markdown",
   "metadata": {},
   "source": [
    "2.2 Test dataset"
   ]
  },
  {
   "cell_type": "code",
   "execution_count": 73,
   "metadata": {},
   "outputs": [
    {
     "data": {
      "text/plain": [
       "PassengerId    0\n",
       "Pclass         0\n",
       "Name           0\n",
       "Sex            0\n",
       "Age            0\n",
       "SibSp          0\n",
       "Parch          0\n",
       "Ticket         0\n",
       "Fare           1\n",
       "Embarked       0\n",
       "dtype: int64"
      ]
     },
     "execution_count": 73,
     "metadata": {},
     "output_type": "execute_result"
    }
   ],
   "source": [
    "test_df.isnull().sum()\n",
    "test_ad=test_df.copy()\n",
    "#Replacing missing age values with the median\n",
    "test_ad['Age']=test_df['Age'].fillna(test_df['Age'].median()) #Replace Nas wih the median age \n",
    "#Replacing Embarked missing values with the most common feature\n",
    "test_ad['Embarked']=test_df['Embarked'].fillna(test_df['Embarked'].value_counts().idxmax()) #Replace Nas with the most common value \n",
    "\n",
    "test_ad.drop('Cabin', axis=1, inplace = True)\n",
    "test_ad.isnull().sum()\n"
   ]
  },
  {
   "cell_type": "markdown",
   "metadata": {},
   "source": [
    "###### In the test data there is also one fare that is missing"
   ]
  },
  {
   "cell_type": "code",
   "execution_count": 74,
   "metadata": {},
   "outputs": [
    {
     "name": "stdout",
     "output_type": "stream",
     "text": [
      "Percentage of missing fare is 0.24%\n",
      "The median Fare is: 14.4542\n"
     ]
    },
    {
     "data": {
      "text/plain": [
       "PassengerId    0\n",
       "Pclass         0\n",
       "Name           0\n",
       "Sex            0\n",
       "Age            0\n",
       "SibSp          0\n",
       "Parch          0\n",
       "Ticket         0\n",
       "Fare           0\n",
       "Embarked       0\n",
       "dtype: int64"
      ]
     },
     "execution_count": 74,
     "metadata": {},
     "output_type": "execute_result"
    }
   ],
   "source": [
    "print('Percentage of missing fare is %.2f%%'%(test_df['Fare'].isnull().sum()/test_df.shape[0]*100))\n",
    "test_df['Fare'].median()\n",
    "print('The median Fare is:',test_df['Fare'].median())\n",
    "test_ad['Fare']=test_df['Fare'].fillna(test_df['Fare'].median())\n",
    "test_ad.isnull().sum()"
   ]
  },
  {
   "cell_type": "markdown",
   "metadata": {},
   "source": [
    "### 3. Exploratory analysis"
   ]
  },
  {
   "cell_type": "markdown",
   "metadata": {},
   "source": [
    "3.1 Survival vs age "
   ]
  },
  {
   "cell_type": "code",
   "execution_count": 75,
   "metadata": {},
   "outputs": [
    {
     "data": {
      "text/plain": [
       "Text(0.5, 1.0, 'Density plot demonstrating survival rates depending on age of passengers')"
      ]
     },
     "execution_count": 75,
     "metadata": {},
     "output_type": "execute_result"
    },
    {
     "data": {
      "image/png": "[encoded data removed]",
      "text/plain": [
       "<Figure size 432x288 with 1 Axes>"
      ]
     },
     "metadata": {
      "needs_background": "light"
     },
     "output_type": "display_data"
    }
   ],
   "source": [
    "# Survived vs Age \n",
    "#Survived vs Sex\n",
    "#Survived vs Fare \n",
    "#Survived vs PClass\n",
    "\n",
    "#Survived vs age \n",
    "\n",
    "\n",
    "#Rate of Survival for age data\n",
    "ax=sns.kdeplot(train_ad['Age'][train_ad.Survived==1],color='pink')\n",
    "ax=sns.kdeplot(train_ad['Age'][train_ad.Survived ==0], color='blue')\n",
    "plt.legend(['Survived','Died'])\n",
    "plt.title('Density plot demonstrating survival rates depending on age of passengers')\n",
    "\n"
   ]
  },
  {
   "cell_type": "markdown",
   "metadata": {},
   "source": [
    "###### What can be seen from the data is that young people under the age of approx 16 years old had higher survival rates compared to the rest of the population"
   ]
  },
  {
   "cell_type": "markdown",
   "metadata": {},
   "source": [
    "3.2 Survival vs Ticket fare "
   ]
  },
  {
   "cell_type": "code",
   "execution_count": 76,
   "metadata": {},
   "outputs": [
    {
     "data": {
      "image/png": "[encoded data removed]",
      "text/plain": [
       "<Figure size 432x288 with 1 Axes>"
      ]
     },
     "metadata": {
      "needs_background": "light"
     },
     "output_type": "display_data"
    }
   ],
   "source": [
    "#Survived vs price of ticket \n",
    "ax=sns.kdeplot(train_ad['Fare'][train_ad.Survived==1],color='pink')\n",
    "ax=sns.kdeplot(train_ad['Fare'][train_ad.Survived==0], color='blue')\n",
    "plt.legend(['Survived','Died'])\n",
    "plt.xlim(-20,200)\n",
    "\n",
    "\n",
    "Pcclass=train_ad.loc[train_ad['Pclass']==3]\n",
    "Pcclass=Pcclass['Fare'].max() \n",
    "\n",
    "\n",
    "\n",
    "\n"
   ]
  },
  {
   "cell_type": "markdown",
   "metadata": {},
   "source": [
    "###### The minimum price for all the 3 classes is 0 --> could reduce the predictive power of the model if I add this column in my logistic regression\n",
    "###### The maximum price for class 1 is 512, max for class 2 is 73 and max for class 3 is 69.55"
   ]
  },
  {
   "cell_type": "markdown",
   "metadata": {},
   "source": [
    "3.3 Rate of survival vs Class"
   ]
  },
  {
   "cell_type": "code",
   "execution_count": 77,
   "metadata": {},
   "outputs": [
    {
     "name": "stderr",
     "output_type": "stream",
     "text": [
      "c:\\Users\\Camila\\AppData\\Local\\Programs\\Python\\Python310\\lib\\site-packages\\seaborn\\_decorators.py:36: FutureWarning: Pass the following variables as keyword args: x, y. From version 0.12, the only valid positional argument will be `data`, and passing other arguments without an explicit keyword will result in an error or misinterpretation.\n",
      "  warnings.warn(\n"
     ]
    },
    {
     "data": {
      "text/plain": [
       "Text(0.5, 1.0, 'Rate of survival per class')"
      ]
     },
     "execution_count": 77,
     "metadata": {},
     "output_type": "execute_result"
    },
    {
     "data": {
      "image/png": "[encoded data removed]",
      "text/plain": [
       "<Figure size 432x288 with 1 Axes>"
      ]
     },
     "metadata": {
      "needs_background": "light"
     },
     "output_type": "display_data"
    }
   ],
   "source": [
    "fig, ax=plt.subplots()\n",
    "\n",
    "ax=sns.barplot('Pclass', 'Survived', data=train_ad)\n",
    "plt.title('Rate of survival per class')\n"
   ]
  },
  {
   "cell_type": "markdown",
   "metadata": {},
   "source": [
    "###### First class passengers had a higher rate of survival"
   ]
  },
  {
   "cell_type": "markdown",
   "metadata": {},
   "source": [
    "3.4 Rate of survival vs gender"
   ]
  },
  {
   "cell_type": "code",
   "execution_count": 78,
   "metadata": {},
   "outputs": [
    {
     "name": "stdout",
     "output_type": "stream",
     "text": [
      "233\n",
      "81\n"
     ]
    },
    {
     "name": "stderr",
     "output_type": "stream",
     "text": [
      "c:\\Users\\Camila\\AppData\\Local\\Programs\\Python\\Python310\\lib\\site-packages\\seaborn\\_decorators.py:36: FutureWarning: Pass the following variables as keyword args: x, y. From version 0.12, the only valid positional argument will be `data`, and passing other arguments without an explicit keyword will result in an error or misinterpretation.\n",
      "  warnings.warn(\n"
     ]
    },
    {
     "data": {
      "text/plain": [
       "314"
      ]
     },
     "execution_count": 78,
     "metadata": {},
     "output_type": "execute_result"
    },
    {
     "data": {
      "image/png": "[encoded data removed]",
      "text/plain": [
       "<Figure size 432x288 with 1 Axes>"
      ]
     },
     "metadata": {
      "needs_background": "light"
     },
     "output_type": "display_data"
    }
   ],
   "source": [
    "ax=sns.barplot('Sex','Survived', data=train_ad)\n",
    "plt.title('Rate of survival per gender')\n",
    "len(train_ad[train_ad['Sex']=='female'])\n",
    "# len(train_ad[train_ad]['Sex']=='female' and train_ad['Survived']==1) \n",
    "slice_df=train_ad[train_ad['Sex']=='female'] \n",
    "print(len(slice_df[slice_df['Survived']==1]))\n",
    "print(len(slice_df[slice_df['Survived']==0]))\n",
    "len(slice_df)\n",
    "\n",
    "\n",
    "\n"
   ]
  },
  {
   "cell_type": "markdown",
   "metadata": {},
   "source": [
    "###### Obvious correlation between survival and gender"
   ]
  },
  {
   "cell_type": "code",
   "execution_count": 79,
   "metadata": {},
   "outputs": [
    {
     "data": {
      "text/plain": [
       "0      1\n",
       "1      0\n",
       "2      0\n",
       "3      0\n",
       "4      1\n",
       "      ..\n",
       "886    1\n",
       "887    0\n",
       "888    0\n",
       "889    1\n",
       "890    1\n",
       "Name: Sex, Length: 891, dtype: int64"
      ]
     },
     "execution_count": 79,
     "metadata": {},
     "output_type": "execute_result"
    }
   ],
   "source": [
    "train_ad['Sex'].replace('female',0,inplace=True)\n",
    "train_ad['Sex'].replace('male',1 ,inplace=True)\n",
    "train_ad['Sex']"
   ]
  },
  {
   "cell_type": "markdown",
   "metadata": {},
   "source": [
    "### 4. Logistic regression"
   ]
  },
  {
   "cell_type": "code",
   "execution_count": 80,
   "metadata": {},
   "outputs": [
    {
     "name": "stdout",
     "output_type": "stream",
     "text": [
      "<class 'pandas.core.frame.DataFrame'>\n",
      "RangeIndex: 891 entries, 0 to 890\n",
      "Data columns (total 11 columns):\n",
      " #   Column       Non-Null Count  Dtype  \n",
      "---  ------       --------------  -----  \n",
      " 0   PassengerId  891 non-null    int64  \n",
      " 1   Survived     891 non-null    int64  \n",
      " 2   Pclass       891 non-null    int64  \n",
      " 3   Name         891 non-null    object \n",
      " 4   Sex          891 non-null    int64  \n",
      " 5   Age          891 non-null    float64\n",
      " 6   SibSp        891 non-null    int64  \n",
      " 7   Parch        891 non-null    int64  \n",
      " 8   Ticket       891 non-null    object \n",
      " 9   Fare         891 non-null    float64\n",
      " 10  Embarked     891 non-null    object \n",
      "dtypes: float64(2), int64(6), object(3)\n",
      "memory usage: 76.7+ KB\n"
     ]
    }
   ],
   "source": [
    "train_ad.info()"
   ]
  },
  {
   "cell_type": "code",
   "execution_count": 81,
   "metadata": {},
   "outputs": [
    {
     "name": "stdout",
     "output_type": "stream",
     "text": [
      "The predictive score of this model is 0.7802690582959642\n"
     ]
    }
   ],
   "source": [
    "\n",
    "X = train_ad.iloc[:,[2,4,5]].values #Using Pclass, sex, age for predictive modeling\n",
    "\n",
    "y=train_ad.iloc[:,1].values\n",
    "X_train, X_test, y_train, y_test = train_test_split(X, y, test_size=0.25, random_state=2)\n",
    "\n",
    "scaler_X = StandardScaler()\n",
    "X_train = scaler_X.fit_transform(X_train) #Scaling training set\n",
    "X_test = scaler_X.transform(X_test) #Scaling test set \n",
    "\n",
    "logreg=LogisticRegression()\n",
    "logreg.fit(X_train,y_train)\n",
    "y_pred = logreg.predict(X_test)\n",
    "# accuracy_score(y_pred,y_test)\n",
    "print('The predictive score of this model is',logreg.score(X_test,y_test))\n",
    "\n",
    "\n",
    "\n",
    "\n",
    "\n"
   ]
  },
  {
   "cell_type": "code",
   "execution_count": 82,
   "metadata": {},
   "outputs": [
    {
     "name": "stdout",
     "output_type": "stream",
     "text": [
      "AUC: 0.762819\n"
     ]
    },
    {
     "data": {
      "image/png": "[encoded data removed]",
      "text/plain": [
       "<Figure size 432x288 with 1 Axes>"
      ]
     },
     "metadata": {
      "needs_background": "light"
     },
     "output_type": "display_data"
    }
   ],
   "source": [
    "auc = roc_auc_score(y_test,y_pred)\n",
    "print('AUC: %f' %auc)\n",
    "\n",
    "fpr, tpr = roc_curve(y_test,y_pred)[0:2] # Why is it [0:2]?\n",
    "\n",
    "plt.plot(fpr, tpr, color='orange', label='ROC')\n",
    "plt.plot([0,1],[0,1], color='darkblue', linestyle='--')\n",
    "plt.xlabel('False Positive Rate')\n",
    "plt.ylabel('True Positive Rate')\n",
    "plt.title('Receiver Operating Characteristic (ROC) Curve')\n",
    "plt.legend()\n",
    "plt.show()"
   ]
  },
  {
   "cell_type": "code",
   "execution_count": 83,
   "metadata": {},
   "outputs": [
    {
     "name": "stdout",
     "output_type": "stream",
     "text": [
      "F score: 0.713450\n"
     ]
    }
   ],
   "source": [
    "fscore=f1_score(y_test,y_pred)\n",
    "print('F score: %f' %fscore)"
   ]
  }
 ],
 "metadata": {
  "kernelspec": {
   "display_name": "Python 3.10.2 64-bit",
   "language": "python",
   "name": "python3"
  },
  "language_info": {
   "codemirror_mode": {
    "name": "ipython",
    "version": 3
   },
   "file_extension": ".py",
   "mimetype": "text/x-python",
   "name": "python",
   "nbconvert_exporter": "python",
   "pygments_lexer": "ipython3",
   "version": "3.10.2"
  },
  "orig_nbformat": 4,
  "vscode": {
   "interpreter": {
    "hash": "c4ef5ac9fe40889065280bc4036777609cd7465c040dacc36170616df68f6045"
   }
  }
 },
 "nbformat": 4,
 "nbformat_minor": 2
}
